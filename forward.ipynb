{
 "cells": [
  {
   "cell_type": "code",
   "execution_count": 1,
   "id": "73a3d24d",
   "metadata": {},
   "outputs": [],
   "source": [
    "import os\n",
    "\n",
    "os.environ['CUDA_VISIBLE_DEVICES'] = '2'"
   ]
  },
  {
   "cell_type": "code",
   "execution_count": 2,
   "id": "266a6cb7",
   "metadata": {},
   "outputs": [],
   "source": [
    "from transformers import AutoTokenizer, AutoModelForCausalLM, TextStreamer\n",
    "from peft import LoraConfig, get_peft_model, AutoPeftModelForCausalLM, PeftModel\n",
    "from cut_cross_entropy.transformers import cce_patch\n",
    "from cut_cross_entropy import linear_cross_entropy\n",
    "import torch\n",
    "import transformers\n",
    "import numpy as np\n",
    "import random\n",
    "from torchviz import make_dot"
   ]
  },
  {
   "cell_type": "code",
   "execution_count": 3,
   "id": "578e5527",
   "metadata": {},
   "outputs": [],
   "source": [
    "tokenizer = AutoTokenizer.from_pretrained('HuggingFaceTB/SmolLM2-135M-Instruct')"
   ]
  },
  {
   "cell_type": "code",
   "execution_count": null,
   "id": "21ab337b",
   "metadata": {},
   "outputs": [],
   "source": [
    "model = AutoModelForCausalLM.from_pretrained(\n",
    "    'HuggingFaceTB/SmolLM2-135M-Instruct',\n",
    "    torch_dtype = torch.bfloat16\n",
    ").cuda()"
   ]
  },
  {
   "cell_type": "code",
   "execution_count": null,
   "id": "aac1b695",
   "metadata": {},
   "outputs": [],
   "source": [
    "rank = 64\n",
    "peft_config = LoraConfig(\n",
    "        lora_alpha=rank * 2,\n",
    "        lora_dropout=0.0,\n",
    "        r=rank,\n",
    "        bias=\"none\",\n",
    "        task_type=\"CAUSAL_LM\",\n",
    "        target_modules=[\"embed_tokens\", \"lm_head\"],\n",
    "    )"
   ]
  },
  {
   "cell_type": "code",
   "execution_count": null,
   "id": "5e4607cd",
   "metadata": {},
   "outputs": [],
   "source": [
    "model = get_peft_model(model, peft_config)"
   ]
  },
  {
   "cell_type": "code",
   "execution_count": null,
   "id": "5b0cb260",
   "metadata": {},
   "outputs": [],
   "source": [
    "input_ids = torch.tensor([1,2,3])[None].cuda()"
   ]
  },
  {
   "cell_type": "code",
   "execution_count": null,
   "id": "d568748b",
   "metadata": {},
   "outputs": [],
   "source": [
    "o = model(input_ids = input_ids, output_hidden_states = True)"
   ]
  },
  {
   "cell_type": "code",
   "execution_count": null,
   "id": "5e2a94da",
   "metadata": {},
   "outputs": [],
   "source": [
    "classifier = model.lm_head.weight"
   ]
  },
  {
   "cell_type": "code",
   "execution_count": null,
   "id": "53de468f",
   "metadata": {},
   "outputs": [],
   "source": [
    "classifier.shape"
   ]
  },
  {
   "cell_type": "code",
   "execution_count": null,
   "id": "b436db34",
   "metadata": {
    "scrolled": true
   },
   "outputs": [],
   "source": [
    "c_a = model.lm_head.lora_A.default.weight\n",
    "c_b = model.lm_head.lora_B.default.weight\n",
    "alpha = model.lm_head.scaling['default']"
   ]
  },
  {
   "cell_type": "code",
   "execution_count": null,
   "id": "03602daa",
   "metadata": {},
   "outputs": [],
   "source": [
    "manual_shift_loss = linear_cross_entropy(o.hidden_states[-1], classifier,\n",
    "                                         c_a = c_a,\n",
    "                                         c_b = c_b,\n",
    "                                         alpha = alpha,\n",
    "                                         targets = input_ids, shift = True)"
   ]
  },
  {
   "cell_type": "code",
   "execution_count": 21,
   "id": "6b82e6d2",
   "metadata": {},
   "outputs": [
    {
     "data": {
      "text/plain": [
       "tensor(19.7411, device='cuda:0', grad_fn=<LinearCrossEntropyFunctionBackward>)"
      ]
     },
     "execution_count": 21,
     "metadata": {},
     "output_type": "execute_result"
    }
   ],
   "source": [
    "manual_shift_loss"
   ]
  },
  {
   "cell_type": "code",
   "execution_count": 18,
   "id": "3e897f36",
   "metadata": {},
   "outputs": [],
   "source": [
    "l = model(input_ids = input_ids, labels = input_ids).loss"
   ]
  },
  {
   "cell_type": "code",
   "execution_count": 19,
   "id": "2f494586",
   "metadata": {},
   "outputs": [],
   "source": [
    "l.backward()"
   ]
  },
  {
   "cell_type": "code",
   "execution_count": 22,
   "id": "0cead3c0",
   "metadata": {},
   "outputs": [
    {
     "ename": "RuntimeError",
     "evalue": "Trying to backward through the graph a second time (or directly access saved tensors after they have already been freed). Saved intermediate values of the graph are freed when you call .backward() or autograd.grad(). Specify retain_graph=True if you need to backward through the graph a second time or if you need to access saved tensors after calling backward.",
     "output_type": "error",
     "traceback": [
      "\u001b[0;31m---------------------------------------------------------------------------\u001b[0m",
      "\u001b[0;31mRuntimeError\u001b[0m                              Traceback (most recent call last)",
      "Cell \u001b[0;32mIn[22], line 1\u001b[0m\n\u001b[0;32m----> 1\u001b[0m \u001b[43mmanual_shift_loss\u001b[49m\u001b[38;5;241;43m.\u001b[39;49m\u001b[43mbackward\u001b[49m\u001b[43m(\u001b[49m\u001b[43m)\u001b[49m\n",
      "File \u001b[0;32m~/.local/lib/python3.10/site-packages/torch/_tensor.py:648\u001b[0m, in \u001b[0;36mTensor.backward\u001b[0;34m(self, gradient, retain_graph, create_graph, inputs)\u001b[0m\n\u001b[1;32m    638\u001b[0m \u001b[38;5;28;01mif\u001b[39;00m has_torch_function_unary(\u001b[38;5;28mself\u001b[39m):\n\u001b[1;32m    639\u001b[0m     \u001b[38;5;28;01mreturn\u001b[39;00m handle_torch_function(\n\u001b[1;32m    640\u001b[0m         Tensor\u001b[38;5;241m.\u001b[39mbackward,\n\u001b[1;32m    641\u001b[0m         (\u001b[38;5;28mself\u001b[39m,),\n\u001b[0;32m   (...)\u001b[0m\n\u001b[1;32m    646\u001b[0m         inputs\u001b[38;5;241m=\u001b[39minputs,\n\u001b[1;32m    647\u001b[0m     )\n\u001b[0;32m--> 648\u001b[0m \u001b[43mtorch\u001b[49m\u001b[38;5;241;43m.\u001b[39;49m\u001b[43mautograd\u001b[49m\u001b[38;5;241;43m.\u001b[39;49m\u001b[43mbackward\u001b[49m\u001b[43m(\u001b[49m\n\u001b[1;32m    649\u001b[0m \u001b[43m    \u001b[49m\u001b[38;5;28;43mself\u001b[39;49m\u001b[43m,\u001b[49m\u001b[43m \u001b[49m\u001b[43mgradient\u001b[49m\u001b[43m,\u001b[49m\u001b[43m \u001b[49m\u001b[43mretain_graph\u001b[49m\u001b[43m,\u001b[49m\u001b[43m \u001b[49m\u001b[43mcreate_graph\u001b[49m\u001b[43m,\u001b[49m\u001b[43m \u001b[49m\u001b[43minputs\u001b[49m\u001b[38;5;241;43m=\u001b[39;49m\u001b[43minputs\u001b[49m\n\u001b[1;32m    650\u001b[0m \u001b[43m\u001b[49m\u001b[43m)\u001b[49m\n",
      "File \u001b[0;32m~/.local/lib/python3.10/site-packages/torch/autograd/__init__.py:347\u001b[0m, in \u001b[0;36mbackward\u001b[0;34m(tensors, grad_tensors, retain_graph, create_graph, grad_variables, inputs)\u001b[0m\n\u001b[1;32m    342\u001b[0m     retain_graph \u001b[38;5;241m=\u001b[39m create_graph\n\u001b[1;32m    344\u001b[0m \u001b[38;5;66;03m# The reason we repeat the same comment below is that\u001b[39;00m\n\u001b[1;32m    345\u001b[0m \u001b[38;5;66;03m# some Python versions print out the first line of a multi-line function\u001b[39;00m\n\u001b[1;32m    346\u001b[0m \u001b[38;5;66;03m# calls in the traceback and some print out the last line\u001b[39;00m\n\u001b[0;32m--> 347\u001b[0m \u001b[43m_engine_run_backward\u001b[49m\u001b[43m(\u001b[49m\n\u001b[1;32m    348\u001b[0m \u001b[43m    \u001b[49m\u001b[43mtensors\u001b[49m\u001b[43m,\u001b[49m\n\u001b[1;32m    349\u001b[0m \u001b[43m    \u001b[49m\u001b[43mgrad_tensors_\u001b[49m\u001b[43m,\u001b[49m\n\u001b[1;32m    350\u001b[0m \u001b[43m    \u001b[49m\u001b[43mretain_graph\u001b[49m\u001b[43m,\u001b[49m\n\u001b[1;32m    351\u001b[0m \u001b[43m    \u001b[49m\u001b[43mcreate_graph\u001b[49m\u001b[43m,\u001b[49m\n\u001b[1;32m    352\u001b[0m \u001b[43m    \u001b[49m\u001b[43minputs\u001b[49m\u001b[43m,\u001b[49m\n\u001b[1;32m    353\u001b[0m \u001b[43m    \u001b[49m\u001b[43mallow_unreachable\u001b[49m\u001b[38;5;241;43m=\u001b[39;49m\u001b[38;5;28;43;01mTrue\u001b[39;49;00m\u001b[43m,\u001b[49m\n\u001b[1;32m    354\u001b[0m \u001b[43m    \u001b[49m\u001b[43maccumulate_grad\u001b[49m\u001b[38;5;241;43m=\u001b[39;49m\u001b[38;5;28;43;01mTrue\u001b[39;49;00m\u001b[43m,\u001b[49m\n\u001b[1;32m    355\u001b[0m \u001b[43m\u001b[49m\u001b[43m)\u001b[49m\n",
      "File \u001b[0;32m~/.local/lib/python3.10/site-packages/torch/autograd/graph.py:823\u001b[0m, in \u001b[0;36m_engine_run_backward\u001b[0;34m(t_outputs, *args, **kwargs)\u001b[0m\n\u001b[1;32m    821\u001b[0m     unregister_hooks \u001b[38;5;241m=\u001b[39m _register_logging_hooks_on_whole_graph(t_outputs)\n\u001b[1;32m    822\u001b[0m \u001b[38;5;28;01mtry\u001b[39;00m:\n\u001b[0;32m--> 823\u001b[0m     \u001b[38;5;28;01mreturn\u001b[39;00m \u001b[43mVariable\u001b[49m\u001b[38;5;241;43m.\u001b[39;49m\u001b[43m_execution_engine\u001b[49m\u001b[38;5;241;43m.\u001b[39;49m\u001b[43mrun_backward\u001b[49m\u001b[43m(\u001b[49m\u001b[43m  \u001b[49m\u001b[38;5;66;43;03m# Calls into the C++ engine to run the backward pass\u001b[39;49;00m\n\u001b[1;32m    824\u001b[0m \u001b[43m        \u001b[49m\u001b[43mt_outputs\u001b[49m\u001b[43m,\u001b[49m\u001b[43m \u001b[49m\u001b[38;5;241;43m*\u001b[39;49m\u001b[43margs\u001b[49m\u001b[43m,\u001b[49m\u001b[43m \u001b[49m\u001b[38;5;241;43m*\u001b[39;49m\u001b[38;5;241;43m*\u001b[39;49m\u001b[43mkwargs\u001b[49m\n\u001b[1;32m    825\u001b[0m \u001b[43m    \u001b[49m\u001b[43m)\u001b[49m  \u001b[38;5;66;03m# Calls into the C++ engine to run the backward pass\u001b[39;00m\n\u001b[1;32m    826\u001b[0m \u001b[38;5;28;01mfinally\u001b[39;00m:\n\u001b[1;32m    827\u001b[0m     \u001b[38;5;28;01mif\u001b[39;00m attach_logging_hooks:\n",
      "File \u001b[0;32m~/.local/lib/python3.10/site-packages/torch/autograd/function.py:307\u001b[0m, in \u001b[0;36mBackwardCFunction.apply\u001b[0;34m(self, *args)\u001b[0m\n\u001b[1;32m    301\u001b[0m     \u001b[38;5;28;01mraise\u001b[39;00m \u001b[38;5;167;01mRuntimeError\u001b[39;00m(\n\u001b[1;32m    302\u001b[0m         \u001b[38;5;124m\"\u001b[39m\u001b[38;5;124mImplementing both \u001b[39m\u001b[38;5;124m'\u001b[39m\u001b[38;5;124mbackward\u001b[39m\u001b[38;5;124m'\u001b[39m\u001b[38;5;124m and \u001b[39m\u001b[38;5;124m'\u001b[39m\u001b[38;5;124mvjp\u001b[39m\u001b[38;5;124m'\u001b[39m\u001b[38;5;124m for a custom \u001b[39m\u001b[38;5;124m\"\u001b[39m\n\u001b[1;32m    303\u001b[0m         \u001b[38;5;124m\"\u001b[39m\u001b[38;5;124mFunction is not allowed. You should only implement one \u001b[39m\u001b[38;5;124m\"\u001b[39m\n\u001b[1;32m    304\u001b[0m         \u001b[38;5;124m\"\u001b[39m\u001b[38;5;124mof them.\u001b[39m\u001b[38;5;124m\"\u001b[39m\n\u001b[1;32m    305\u001b[0m     )\n\u001b[1;32m    306\u001b[0m user_fn \u001b[38;5;241m=\u001b[39m vjp_fn \u001b[38;5;28;01mif\u001b[39;00m vjp_fn \u001b[38;5;129;01mis\u001b[39;00m \u001b[38;5;129;01mnot\u001b[39;00m Function\u001b[38;5;241m.\u001b[39mvjp \u001b[38;5;28;01melse\u001b[39;00m backward_fn\n\u001b[0;32m--> 307\u001b[0m \u001b[38;5;28;01mreturn\u001b[39;00m \u001b[43muser_fn\u001b[49m\u001b[43m(\u001b[49m\u001b[38;5;28;43mself\u001b[39;49m\u001b[43m,\u001b[49m\u001b[43m \u001b[49m\u001b[38;5;241;43m*\u001b[39;49m\u001b[43margs\u001b[49m\u001b[43m)\u001b[49m\n",
      "File \u001b[0;32m~/ssd3/ml-cross-entropy-lora-embedding/cut_cross_entropy/cce.py:91\u001b[0m, in \u001b[0;36mLinearCrossEntropyFunction.backward\u001b[0;34m(ctx, grad_out)\u001b[0m\n\u001b[1;32m     89\u001b[0m \u001b[38;5;129m@staticmethod\u001b[39m\n\u001b[1;32m     90\u001b[0m \u001b[38;5;28;01mdef\u001b[39;00m \u001b[38;5;21mbackward\u001b[39m(ctx, grad_out: torch\u001b[38;5;241m.\u001b[39mTensor) \u001b[38;5;241m-\u001b[39m\u001b[38;5;241m>\u001b[39m \u001b[38;5;28mtuple\u001b[39m[torch\u001b[38;5;241m.\u001b[39mTensor, torch\u001b[38;5;241m.\u001b[39mTensor, \u001b[38;5;28;01mNone\u001b[39;00m]:\n\u001b[0;32m---> 91\u001b[0m     h, w, w_a, w_b, lse, targets, valids, logit_avg \u001b[38;5;241m=\u001b[39m \u001b[43mctx\u001b[49m\u001b[38;5;241;43m.\u001b[39;49m\u001b[43msaved_tensors\u001b[49m\n\u001b[1;32m     92\u001b[0m     alpha \u001b[38;5;241m=\u001b[39m ctx\u001b[38;5;241m.\u001b[39malpha\n\u001b[1;32m     94\u001b[0m     \u001b[38;5;28;01mif\u001b[39;00m logit_avg \u001b[38;5;129;01mis\u001b[39;00m \u001b[38;5;129;01mnot\u001b[39;00m \u001b[38;5;28;01mNone\u001b[39;00m:\n",
      "\u001b[0;31mRuntimeError\u001b[0m: Trying to backward through the graph a second time (or directly access saved tensors after they have already been freed). Saved intermediate values of the graph are freed when you call .backward() or autograd.grad(). Specify retain_graph=True if you need to backward through the graph a second time or if you need to access saved tensors after calling backward."
     ]
    }
   ],
   "source": [
    "manual_shift_loss.backward()"
   ]
  },
  {
   "cell_type": "code",
   "execution_count": 23,
   "id": "81b7b871",
   "metadata": {},
   "outputs": [
    {
     "data": {
      "text/plain": [
       "tensor([[-2.9976e-04, -1.3902e-04, -2.0747e-06,  ..., -7.0202e-05,\n",
       "         -6.8997e-05,  3.2948e-04],\n",
       "        [-2.6686e-08, -1.4672e-08,  5.7066e-10,  ...,  2.7285e-10,\n",
       "         -5.9582e-09,  2.4281e-08],\n",
       "        [ 1.6168e+00,  7.2701e-01, -1.1361e-02,  ...,  3.5186e-01,\n",
       "          5.2212e-01, -1.6118e+00],\n",
       "        ...,\n",
       "        [-5.8421e-07, -6.5146e-07, -2.1739e-07,  ..., -9.5092e-08,\n",
       "          2.2800e-07,  9.7687e-07],\n",
       "        [-7.0167e-06, -6.6236e-06, -1.7752e-06,  ..., -7.7464e-07,\n",
       "          1.4352e-06,  1.0114e-05],\n",
       "        [-4.4343e-09, -4.9568e-09, -1.6584e-09,  ..., -7.2544e-10,\n",
       "          1.7436e-09,  7.4309e-09]], device='cuda:0')"
      ]
     },
     "execution_count": 23,
     "metadata": {},
     "output_type": "execute_result"
    }
   ],
   "source": [
    "c_b.grad"
   ]
  },
  {
   "cell_type": "code",
   "execution_count": null,
   "id": "16a1b5b5",
   "metadata": {},
   "outputs": [],
   "source": []
  },
  {
   "cell_type": "code",
   "execution_count": 17,
   "id": "3c918e6e",
   "metadata": {},
   "outputs": [
    {
     "ename": "NameError",
     "evalue": "name 'tensor' is not defined",
     "output_type": "error",
     "traceback": [
      "\u001b[0;31m---------------------------------------------------------------------------\u001b[0m",
      "\u001b[0;31mNameError\u001b[0m                                 Traceback (most recent call last)",
      "Cell \u001b[0;32mIn[17], line 1\u001b[0m\n\u001b[0;32m----> 1\u001b[0m \u001b[43mtensor\u001b[49m([[ \u001b[38;5;241m4.8602e-05\u001b[39m,  \u001b[38;5;241m9.1227e-05\u001b[39m, \u001b[38;5;241m-\u001b[39m\u001b[38;5;241m2.9040e-05\u001b[39m,  \u001b[38;5;241m.\u001b[39m\u001b[38;5;241m.\u001b[39m\u001b[38;5;241m.\u001b[39m,  \u001b[38;5;241m1.8487e-05\u001b[39m,\n\u001b[1;32m      2\u001b[0m          \u001b[38;5;241m-\u001b[39m\u001b[38;5;241m3.2635e-05\u001b[39m,  \u001b[38;5;241m8.4391e-06\u001b[39m],\n\u001b[1;32m      3\u001b[0m         [ \u001b[38;5;241m6.7039e-09\u001b[39m,  \u001b[38;5;241m1.0294e-08\u001b[39m, \u001b[38;5;241m-\u001b[39m\u001b[38;5;241m2.8363e-09\u001b[39m,  \u001b[38;5;241m.\u001b[39m\u001b[38;5;241m.\u001b[39m\u001b[38;5;241m.\u001b[39m,  \u001b[38;5;241m1.3824e-09\u001b[39m,\n\u001b[1;32m      4\u001b[0m          \u001b[38;5;241m-\u001b[39m\u001b[38;5;241m2.6497e-09\u001b[39m,  \u001b[38;5;241m1.2757e-09\u001b[39m],\n\u001b[1;32m      5\u001b[0m         [\u001b[38;5;241m-\u001b[39m\u001b[38;5;241m3.8740e-01\u001b[39m, \u001b[38;5;241m-\u001b[39m\u001b[38;5;241m5.9367e-01\u001b[39m,  \u001b[38;5;241m1.6330e-01\u001b[39m,  \u001b[38;5;241m.\u001b[39m\u001b[38;5;241m.\u001b[39m\u001b[38;5;241m.\u001b[39m, \u001b[38;5;241m-\u001b[39m\u001b[38;5;241m7.9289e-02\u001b[39m,\n\u001b[1;32m      6\u001b[0m           \u001b[38;5;241m1.5217e-01\u001b[39m, \u001b[38;5;241m-\u001b[39m\u001b[38;5;241m7.3774e-02\u001b[39m],\n\u001b[1;32m      7\u001b[0m         \u001b[38;5;241m.\u001b[39m\u001b[38;5;241m.\u001b[39m\u001b[38;5;241m.\u001b[39m,\n\u001b[1;32m      8\u001b[0m         [\u001b[38;5;241m-\u001b[39m\u001b[38;5;241m1.8596e-07\u001b[39m, \u001b[38;5;241m-\u001b[39m\u001b[38;5;241m3.0567e-08\u001b[39m, \u001b[38;5;241m-\u001b[39m\u001b[38;5;241m5.1531e-08\u001b[39m,  \u001b[38;5;241m.\u001b[39m\u001b[38;5;241m.\u001b[39m\u001b[38;5;241m.\u001b[39m,  \u001b[38;5;241m9.1656e-08\u001b[39m,\n\u001b[1;32m      9\u001b[0m          \u001b[38;5;241m-\u001b[39m\u001b[38;5;241m1.3270e-07\u001b[39m, \u001b[38;5;241m-\u001b[39m\u001b[38;5;241m4.7815e-08\u001b[39m],\n\u001b[1;32m     10\u001b[0m         [\u001b[38;5;241m-\u001b[39m\u001b[38;5;241m1.0237e-06\u001b[39m,  \u001b[38;5;241m5.6337e-07\u001b[39m, \u001b[38;5;241m-\u001b[39m\u001b[38;5;241m6.5732e-07\u001b[39m,  \u001b[38;5;241m.\u001b[39m\u001b[38;5;241m.\u001b[39m\u001b[38;5;241m.\u001b[39m,  \u001b[38;5;241m8.7762e-07\u001b[39m,\n\u001b[1;32m     11\u001b[0m          \u001b[38;5;241m-\u001b[39m\u001b[38;5;241m1.3222e-06\u001b[39m, \u001b[38;5;241m-\u001b[39m\u001b[38;5;241m2.9889e-07\u001b[39m],\n\u001b[1;32m     12\u001b[0m         [\u001b[38;5;241m-\u001b[39m\u001b[38;5;241m1.4235e-09\u001b[39m, \u001b[38;5;241m-\u001b[39m\u001b[38;5;241m2.4130e-10\u001b[39m, \u001b[38;5;241m-\u001b[39m\u001b[38;5;241m3.9075e-10\u001b[39m,  \u001b[38;5;241m.\u001b[39m\u001b[38;5;241m.\u001b[39m\u001b[38;5;241m.\u001b[39m,  \u001b[38;5;241m6.9792e-10\u001b[39m,\n\u001b[1;32m     13\u001b[0m          \u001b[38;5;241m-\u001b[39m\u001b[38;5;241m1.0100e-09\u001b[39m, \u001b[38;5;241m-\u001b[39m\u001b[38;5;241m3.6568e-10\u001b[39m]], device\u001b[38;5;241m=\u001b[39m\u001b[38;5;124m'\u001b[39m\u001b[38;5;124mcuda:0\u001b[39m\u001b[38;5;124m'\u001b[39m)\n",
      "\u001b[0;31mNameError\u001b[0m: name 'tensor' is not defined"
     ]
    }
   ],
   "source": [
    "tensor([[ 4.8602e-05,  9.1227e-05, -2.9040e-05,  ...,  1.8487e-05,\n",
    "         -3.2635e-05,  8.4391e-06],\n",
    "        [ 6.7039e-09,  1.0294e-08, -2.8363e-09,  ...,  1.3824e-09,\n",
    "         -2.6497e-09,  1.2757e-09],\n",
    "        [-3.8740e-01, -5.9367e-01,  1.6330e-01,  ..., -7.9289e-02,\n",
    "          1.5217e-01, -7.3774e-02],\n",
    "        ...,\n",
    "        [-1.8596e-07, -3.0567e-08, -5.1531e-08,  ...,  9.1656e-08,\n",
    "         -1.3270e-07, -4.7815e-08],\n",
    "        [-1.0237e-06,  5.6337e-07, -6.5732e-07,  ...,  8.7762e-07,\n",
    "         -1.3222e-06, -2.9889e-07],\n",
    "        [-1.4235e-09, -2.4130e-10, -3.9075e-10,  ...,  6.9792e-10,\n",
    "         -1.0100e-09, -3.6568e-10]], device='cuda:0')"
   ]
  }
 ],
 "metadata": {
  "kernelspec": {
   "display_name": "python3.10",
   "language": "python",
   "name": "python3.10"
  },
  "language_info": {
   "codemirror_mode": {
    "name": "ipython",
    "version": 3
   },
   "file_extension": ".py",
   "mimetype": "text/x-python",
   "name": "python",
   "nbconvert_exporter": "python",
   "pygments_lexer": "ipython3",
   "version": "3.10.15"
  }
 },
 "nbformat": 4,
 "nbformat_minor": 5
}
