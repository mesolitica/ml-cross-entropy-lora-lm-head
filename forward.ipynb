{
 "cells": [
  {
   "cell_type": "code",
   "execution_count": 1,
   "id": "73a3d24d",
   "metadata": {},
   "outputs": [],
   "source": [
    "import os\n",
    "\n",
    "os.environ['CUDA_VISIBLE_DEVICES'] = '2'"
   ]
  },
  {
   "cell_type": "code",
   "execution_count": 2,
   "id": "266a6cb7",
   "metadata": {},
   "outputs": [],
   "source": [
    "from transformers import AutoTokenizer, AutoModelForCausalLM, TextStreamer\n",
    "from peft import LoraConfig, get_peft_model, AutoPeftModelForCausalLM, PeftModel\n",
    "from cut_cross_entropy.transformers import cce_patch\n",
    "from cut_cross_entropy import linear_cross_entropy\n",
    "import torch\n",
    "import transformers\n",
    "import numpy as np\n",
    "import random\n",
    "from torchviz import make_dot"
   ]
  },
  {
   "cell_type": "code",
   "execution_count": 3,
   "id": "578e5527",
   "metadata": {},
   "outputs": [],
   "source": [
    "tokenizer = AutoTokenizer.from_pretrained('HuggingFaceTB/SmolLM2-135M-Instruct')"
   ]
  },
  {
   "cell_type": "code",
   "execution_count": 4,
   "id": "21ab337b",
   "metadata": {},
   "outputs": [],
   "source": [
    "model = AutoModelForCausalLM.from_pretrained(\n",
    "    'HuggingFaceTB/SmolLM2-135M-Instruct',\n",
    "    torch_dtype = torch.bfloat16\n",
    ").cuda()"
   ]
  },
  {
   "cell_type": "code",
   "execution_count": 5,
   "id": "aac1b695",
   "metadata": {},
   "outputs": [],
   "source": [
    "rank = 128\n",
    "peft_config = LoraConfig(\n",
    "        lora_alpha=rank * 2,\n",
    "        lora_dropout=0.0,\n",
    "        r=rank,\n",
    "        bias=\"none\",\n",
    "        task_type=\"CAUSAL_LM\",\n",
    "        target_modules=[\"embed_tokens\", \"lm_head\"],\n",
    "    )"
   ]
  },
  {
   "cell_type": "code",
   "execution_count": 6,
   "id": "5e4607cd",
   "metadata": {},
   "outputs": [
    {
     "name": "stderr",
     "output_type": "stream",
     "text": [
      "/home/husein/.local/lib/python3.10/site-packages/peft/tuners/tuners_utils.py:543: UserWarning: Model with `tie_word_embeddings=True` and the tied_target_modules=['lm_head'] are part of the adapter. This can lead to complications, for example when merging the adapter or converting your model to formats other than safetensors. See for example https://github.com/huggingface/peft/issues/2018.\n",
      "  warnings.warn(\n"
     ]
    }
   ],
   "source": [
    "model = get_peft_model(model, peft_config)"
   ]
  },
  {
   "cell_type": "code",
   "execution_count": 7,
   "id": "5b0cb260",
   "metadata": {},
   "outputs": [],
   "source": [
    "input_ids = torch.tensor([1,2,3])[None].cuda()"
   ]
  },
  {
   "cell_type": "code",
   "execution_count": 8,
   "id": "d568748b",
   "metadata": {},
   "outputs": [],
   "source": [
    "o = model(input_ids = input_ids, output_hidden_states = True)"
   ]
  },
  {
   "cell_type": "code",
   "execution_count": 9,
   "id": "5e2a94da",
   "metadata": {},
   "outputs": [],
   "source": [
    "classifier = model.lm_head.weight"
   ]
  },
  {
   "cell_type": "code",
   "execution_count": 10,
   "id": "53de468f",
   "metadata": {},
   "outputs": [
    {
     "data": {
      "text/plain": [
       "torch.Size([49152, 576])"
      ]
     },
     "execution_count": 10,
     "metadata": {},
     "output_type": "execute_result"
    }
   ],
   "source": [
    "classifier.shape"
   ]
  },
  {
   "cell_type": "code",
   "execution_count": 11,
   "id": "b436db34",
   "metadata": {
    "scrolled": true
   },
   "outputs": [],
   "source": [
    "c_a = model.lm_head.lora_A.default.weight\n",
    "c_b = model.lm_head.lora_B.default.weight\n",
    "alpha = model.lm_head.scaling['default']"
   ]
  },
  {
   "cell_type": "code",
   "execution_count": 12,
   "id": "03602daa",
   "metadata": {},
   "outputs": [],
   "source": [
    "manual_shift_loss = linear_cross_entropy(o.hidden_states[-1], classifier,\n",
    "                                         c_a = c_a,\n",
    "                                         c_b = c_b,\n",
    "                                         alpha = alpha,\n",
    "                                         targets = input_ids, shift = True)"
   ]
  },
  {
   "cell_type": "code",
   "execution_count": 13,
   "id": "6b82e6d2",
   "metadata": {},
   "outputs": [
    {
     "data": {
      "text/plain": [
       "tensor(19.7411, device='cuda:0', grad_fn=<LinearCrossEntropyFunctionBackward>)"
      ]
     },
     "execution_count": 13,
     "metadata": {},
     "output_type": "execute_result"
    }
   ],
   "source": [
    "manual_shift_loss"
   ]
  },
  {
   "cell_type": "code",
   "execution_count": 14,
   "id": "3e897f36",
   "metadata": {},
   "outputs": [
    {
     "data": {
      "text/plain": [
       "tensor(19.7810, device='cuda:0', grad_fn=<NllLossBackward0>)"
      ]
     },
     "execution_count": 14,
     "metadata": {},
     "output_type": "execute_result"
    }
   ],
   "source": [
    "model(input_ids = input_ids, labels = input_ids).loss"
   ]
  },
  {
   "cell_type": "code",
   "execution_count": null,
   "id": "0cead3c0",
   "metadata": {},
   "outputs": [],
   "source": []
  }
 ],
 "metadata": {
  "kernelspec": {
   "display_name": "python3.10",
   "language": "python",
   "name": "python3.10"
  },
  "language_info": {
   "codemirror_mode": {
    "name": "ipython",
    "version": 3
   },
   "file_extension": ".py",
   "mimetype": "text/x-python",
   "name": "python",
   "nbconvert_exporter": "python",
   "pygments_lexer": "ipython3",
   "version": "3.10.15"
  }
 },
 "nbformat": 4,
 "nbformat_minor": 5
}
