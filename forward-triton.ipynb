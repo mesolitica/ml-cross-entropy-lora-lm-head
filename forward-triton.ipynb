{
 "cells": [
  {
   "cell_type": "code",
   "execution_count": 1,
   "id": "73a3d24d",
   "metadata": {},
   "outputs": [],
   "source": [
    "import os\n",
    "\n",
    "os.environ['CUDA_VISIBLE_DEVICES'] = '2'"
   ]
  },
  {
   "cell_type": "code",
   "execution_count": 2,
   "id": "266a6cb7",
   "metadata": {},
   "outputs": [],
   "source": [
    "from transformers import AutoTokenizer, AutoModelForCausalLM, TextStreamer\n",
    "from peft import LoraConfig, get_peft_model, AutoPeftModelForCausalLM, PeftModel\n",
    "from cut_cross_entropy.transformers import cce_patch\n",
    "from cut_cross_entropy import linear_cross_entropy\n",
    "import torch\n",
    "import transformers\n",
    "import numpy as np\n",
    "import random\n",
    "from torchviz import make_dot"
   ]
  },
  {
   "cell_type": "code",
   "execution_count": 3,
   "id": "578e5527",
   "metadata": {},
   "outputs": [],
   "source": [
    "tokenizer = AutoTokenizer.from_pretrained('HuggingFaceTB/SmolLM2-135M-Instruct')"
   ]
  },
  {
   "cell_type": "code",
   "execution_count": 4,
   "id": "1ea9b373",
   "metadata": {},
   "outputs": [
    {
     "name": "stdout",
     "output_type": "stream",
     "text": [
      "Fri Jan 17 13:39:11 2025       \n",
      "+-----------------------------------------------------------------------------------------+\n",
      "| NVIDIA-SMI 555.42.06              Driver Version: 555.42.06      CUDA Version: 12.5     |\n",
      "|-----------------------------------------+------------------------+----------------------+\n",
      "| GPU  Name                 Persistence-M | Bus-Id          Disp.A | Volatile Uncorr. ECC |\n",
      "| Fan  Temp   Perf          Pwr:Usage/Cap |           Memory-Usage | GPU-Util  Compute M. |\n",
      "|                                         |                        |               MIG M. |\n",
      "|=========================================+========================+======================|\n",
      "|   0  NVIDIA GeForce RTX 3090 Ti     Off |   00000000:01:00.0 Off |                  Off |\n",
      "| 30%   33C    P8             22W /  400W |    1004MiB /  24564MiB |      0%      Default |\n",
      "|                                         |                        |                  N/A |\n",
      "+-----------------------------------------+------------------------+----------------------+\n",
      "|   1  NVIDIA GeForce RTX 3090 Ti     Off |   00000000:08:00.0 Off |                  Off |\n",
      "|  0%   48C    P8             23W /  350W |      18MiB /  24564MiB |      0%      Default |\n",
      "|                                         |                        |                  N/A |\n",
      "+-----------------------------------------+------------------------+----------------------+\n",
      "|   2  NVIDIA GeForce RTX 3090        Off |   00000000:09:00.0 Off |                  N/A |\n",
      "|  0%   38C    P8             32W /  300W |      18MiB /  24576MiB |      0%      Default |\n",
      "|                                         |                        |                  N/A |\n",
      "+-----------------------------------------+------------------------+----------------------+\n",
      "                                                                                         \n",
      "+-----------------------------------------------------------------------------------------+\n",
      "| Processes:                                                                              |\n",
      "|  GPU   GI   CI        PID   Type   Process name                              GPU Memory |\n",
      "|        ID   ID                                                               Usage      |\n",
      "|=========================================================================================|\n",
      "|    0   N/A  N/A      1637      G   /usr/lib/xorg/Xorg                              9MiB |\n",
      "|    0   N/A  N/A      4798      G   /usr/bin/gnome-shell                            6MiB |\n",
      "|    0   N/A  N/A   1740150      C   /usr/bin/python3.10                           964MiB |\n",
      "|    1   N/A  N/A      1637      G   /usr/lib/xorg/Xorg                              4MiB |\n",
      "|    2   N/A  N/A      1637      G   /usr/lib/xorg/Xorg                              4MiB |\n",
      "+-----------------------------------------------------------------------------------------+\n"
     ]
    }
   ],
   "source": [
    "!nvidia-smi"
   ]
  },
  {
   "cell_type": "code",
   "execution_count": 5,
   "id": "21ab337b",
   "metadata": {},
   "outputs": [],
   "source": [
    "model = AutoModelForCausalLM.from_pretrained(\n",
    "    'HuggingFaceTB/SmolLM2-135M-Instruct',\n",
    "    torch_dtype = torch.bfloat16\n",
    ").cuda()"
   ]
  },
  {
   "cell_type": "code",
   "execution_count": 6,
   "id": "aac1b695",
   "metadata": {},
   "outputs": [],
   "source": [
    "rank = 64\n",
    "peft_config = LoraConfig(\n",
    "        lora_alpha=rank * 2,\n",
    "        lora_dropout=0.0,\n",
    "        r=rank,\n",
    "        bias=\"none\",\n",
    "        task_type=\"CAUSAL_LM\",\n",
    "        target_modules=[\"embed_tokens\", \"lm_head\"],\n",
    "    )"
   ]
  },
  {
   "cell_type": "code",
   "execution_count": 7,
   "id": "5e4607cd",
   "metadata": {},
   "outputs": [
    {
     "name": "stderr",
     "output_type": "stream",
     "text": [
      "/home/husein/.local/lib/python3.10/site-packages/peft/tuners/tuners_utils.py:543: UserWarning: Model with `tie_word_embeddings=True` and the tied_target_modules=['lm_head'] are part of the adapter. This can lead to complications, for example when merging the adapter or converting your model to formats other than safetensors. See for example https://github.com/huggingface/peft/issues/2018.\n",
      "  warnings.warn(\n"
     ]
    }
   ],
   "source": [
    "model = get_peft_model(model, peft_config)"
   ]
  },
  {
   "cell_type": "code",
   "execution_count": 8,
   "id": "5b0cb260",
   "metadata": {},
   "outputs": [],
   "source": [
    "input_ids = torch.tensor([1,2,3])[None].cuda()"
   ]
  },
  {
   "cell_type": "code",
   "execution_count": 9,
   "id": "d568748b",
   "metadata": {},
   "outputs": [],
   "source": [
    "o = model(input_ids = input_ids, output_hidden_states = True)"
   ]
  },
  {
   "cell_type": "code",
   "execution_count": 10,
   "id": "5e2a94da",
   "metadata": {},
   "outputs": [],
   "source": [
    "classifier = model.lm_head.weight"
   ]
  },
  {
   "cell_type": "code",
   "execution_count": 11,
   "id": "53de468f",
   "metadata": {},
   "outputs": [
    {
     "data": {
      "text/plain": [
       "torch.Size([49152, 576])"
      ]
     },
     "execution_count": 11,
     "metadata": {},
     "output_type": "execute_result"
    }
   ],
   "source": [
    "classifier.shape"
   ]
  },
  {
   "cell_type": "code",
   "execution_count": 12,
   "id": "b436db34",
   "metadata": {
    "scrolled": true
   },
   "outputs": [],
   "source": [
    "c_a = model.lm_head.lora_A.default.weight\n",
    "c_b = model.lm_head.lora_B.default.weight\n",
    "alpha = model.lm_head.scaling['default']"
   ]
  },
  {
   "cell_type": "code",
   "execution_count": 13,
   "id": "03602daa",
   "metadata": {},
   "outputs": [],
   "source": [
    "manual_shift_loss = linear_cross_entropy(o.hidden_states[-1], classifier,\n",
    "                                         c_a = c_a,\n",
    "                                         c_b = c_b,\n",
    "                                         alpha = alpha,\n",
    "                                         targets = input_ids, shift = True)"
   ]
  },
  {
   "cell_type": "code",
   "execution_count": 14,
   "id": "6b82e6d2",
   "metadata": {},
   "outputs": [
    {
     "data": {
      "text/plain": [
       "tensor(19.7411, device='cuda:0', grad_fn=<LinearCrossEntropyFunctionBackward>)"
      ]
     },
     "execution_count": 14,
     "metadata": {},
     "output_type": "execute_result"
    }
   ],
   "source": [
    "manual_shift_loss"
   ]
  },
  {
   "cell_type": "code",
   "execution_count": 15,
   "id": "008ac942",
   "metadata": {},
   "outputs": [
    {
     "name": "stdout",
     "output_type": "stream",
     "text": [
      "Fri Jan 17 13:39:22 2025       \n",
      "+-----------------------------------------------------------------------------------------+\n",
      "| NVIDIA-SMI 555.42.06              Driver Version: 555.42.06      CUDA Version: 12.5     |\n",
      "|-----------------------------------------+------------------------+----------------------+\n",
      "| GPU  Name                 Persistence-M | Bus-Id          Disp.A | Volatile Uncorr. ECC |\n",
      "| Fan  Temp   Perf          Pwr:Usage/Cap |           Memory-Usage | GPU-Util  Compute M. |\n",
      "|                                         |                        |               MIG M. |\n",
      "|=========================================+========================+======================|\n",
      "|   0  NVIDIA GeForce RTX 3090 Ti     Off |   00000000:01:00.0 Off |                  Off |\n",
      "| 30%   33C    P8             22W /  400W |    1004MiB /  24564MiB |      0%      Default |\n",
      "|                                         |                        |                  N/A |\n",
      "+-----------------------------------------+------------------------+----------------------+\n",
      "|   1  NVIDIA GeForce RTX 3090 Ti     Off |   00000000:08:00.0 Off |                  Off |\n",
      "|  0%   48C    P8             23W /  350W |      18MiB /  24564MiB |      0%      Default |\n",
      "|                                         |                        |                  N/A |\n",
      "+-----------------------------------------+------------------------+----------------------+\n",
      "|   2  NVIDIA GeForce RTX 3090        Off |   00000000:09:00.0 Off |                  N/A |\n",
      "| 48%   42C    P0            110W /  300W |     649MiB /  24576MiB |      0%      Default |\n",
      "|                                         |                        |                  N/A |\n",
      "+-----------------------------------------+------------------------+----------------------+\n",
      "                                                                                         \n",
      "+-----------------------------------------------------------------------------------------+\n",
      "| Processes:                                                                              |\n",
      "|  GPU   GI   CI        PID   Type   Process name                              GPU Memory |\n",
      "|        ID   ID                                                               Usage      |\n",
      "|=========================================================================================|\n",
      "|    0   N/A  N/A      1637      G   /usr/lib/xorg/Xorg                              9MiB |\n",
      "|    0   N/A  N/A      4798      G   /usr/bin/gnome-shell                            6MiB |\n",
      "|    0   N/A  N/A   1740150      C   /usr/bin/python3.10                           964MiB |\n",
      "|    1   N/A  N/A      1637      G   /usr/lib/xorg/Xorg                              4MiB |\n",
      "|    2   N/A  N/A      1637      G   /usr/lib/xorg/Xorg                              4MiB |\n",
      "|    2   N/A  N/A   2112351      C   /usr/bin/python3.10                           626MiB |\n",
      "+-----------------------------------------------------------------------------------------+\n"
     ]
    }
   ],
   "source": [
    "!nvidia-smi"
   ]
  },
  {
   "cell_type": "code",
   "execution_count": null,
   "id": "f979bd3a",
   "metadata": {},
   "outputs": [],
   "source": []
  }
 ],
 "metadata": {
  "kernelspec": {
   "display_name": "python3.10",
   "language": "python",
   "name": "python3.10"
  },
  "language_info": {
   "codemirror_mode": {
    "name": "ipython",
    "version": 3
   },
   "file_extension": ".py",
   "mimetype": "text/x-python",
   "name": "python",
   "nbconvert_exporter": "python",
   "pygments_lexer": "ipython3",
   "version": "3.10.15"
  }
 },
 "nbformat": 4,
 "nbformat_minor": 5
}
